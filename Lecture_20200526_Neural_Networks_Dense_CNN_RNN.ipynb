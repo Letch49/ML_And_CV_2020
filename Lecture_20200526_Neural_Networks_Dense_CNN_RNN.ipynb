{
 "cells": [
  {
   "cell_type": "markdown",
   "metadata": {},
   "source": [
    "# Искусственные нейронные сети"
   ]
  },
  {
   "cell_type": "markdown",
   "metadata": {},
   "source": [
    "Считываем набор данных цифр MNIST."
   ]
  },
  {
   "cell_type": "code",
   "execution_count": 1,
   "metadata": {},
   "outputs": [],
   "source": [
    "from sklearn.datasets import load_digits\n",
    "import matplotlib.pyplot as plt\n",
    "from sklearn.model_selection import train_test_split\n",
    "from sklearn.metrics import confusion_matrix, precision_recall_fscore_support, accuracy_score\n",
    "import numpy as np"
   ]
  },
  {
   "cell_type": "code",
   "execution_count": 2,
   "metadata": {},
   "outputs": [],
   "source": [
    "digits = load_digits()"
   ]
  },
  {
   "cell_type": "code",
   "execution_count": 3,
   "metadata": {},
   "outputs": [
    {
     "data": {
      "image/png": "[encoded data removed]",
      "text/plain": [
       "<Figure size 432x288 with 1 Axes>"
      ]
     },
     "metadata": {
      "needs_background": "light"
     },
     "output_type": "display_data"
    }
   ],
   "source": [
    "img = digits.images\n",
    "plt.imshow(img[1], cmap=plt.cm.Greys_r);"
   ]
  },
  {
   "cell_type": "code",
   "execution_count": 4,
   "metadata": {},
   "outputs": [],
   "source": [
    "X = img.reshape(-1, 64)\n",
    "y = digits.target\n",
    "train_x, test_x, train_y, test_y = train_test_split(X, y, test_size=0.2)\n",
    "test_y = test_y.reshape(1, -1)"
   ]
  },
  {
   "cell_type": "markdown",
   "metadata": {},
   "source": [
    "Персептрон из библиотеки [sklearn](https://scikit-learn.org/stable/modules/generated/sklearn.neural_network.MLPClassifier.html?highlight=mlpclassifier#sklearn.neural_network.MLPClassifier)."
   ]
  },
  {
   "cell_type": "code",
   "execution_count": 5,
   "metadata": {},
   "outputs": [],
   "source": [
    "from sklearn.neural_network import MLPClassifier"
   ]
  },
  {
   "cell_type": "code",
   "execution_count": 6,
   "metadata": {},
   "outputs": [],
   "source": [
    "model = MLPClassifier((64, 64), activation='tanh')"
   ]
  },
  {
   "cell_type": "code",
   "execution_count": 7,
   "metadata": {},
   "outputs": [
    {
     "data": {
      "text/plain": [
       "MLPClassifier(activation='tanh', alpha=0.0001, batch_size='auto', beta_1=0.9,\n",
       "              beta_2=0.999, early_stopping=False, epsilon=1e-08,\n",
       "              hidden_layer_sizes=(64, 64), learning_rate='constant',\n",
       "              learning_rate_init=0.001, max_iter=200, momentum=0.9,\n",
       "              n_iter_no_change=10, nesterovs_momentum=True, power_t=0.5,\n",
       "              random_state=None, shuffle=True, solver='adam', tol=0.0001,\n",
       "              validation_fraction=0.1, verbose=False, warm_start=False)"
      ]
     },
     "execution_count": 7,
     "metadata": {},
     "output_type": "execute_result"
    }
   ],
   "source": [
    "model.fit(train_x, train_y)"
   ]
  },
  {
   "cell_type": "code",
   "execution_count": 8,
   "metadata": {},
   "outputs": [],
   "source": [
    "y_hat = model.predict(test_x)"
   ]
  },
  {
   "cell_type": "code",
   "execution_count": 9,
   "metadata": {},
   "outputs": [
    {
     "data": {
      "text/plain": [
       "array([6, 1, 7, 9, 2, 6, 2, 2, 5, 0, 4, 5, 1, 5, 2, 4, 5, 5, 3, 7, 7, 2,\n",
       "       4, 5, 8, 2, 8, 1, 3, 5, 8, 0, 7, 4, 0, 5, 5, 7, 0, 1, 6, 2, 8, 8,\n",
       "       5, 8, 1, 4, 4, 7, 4, 1, 6, 3, 0, 5, 2, 5, 2, 6, 0, 6, 8, 7, 6, 4,\n",
       "       2, 5, 1, 3, 0, 7, 5, 4, 0, 6, 1, 3, 5, 2, 4, 6, 1, 8, 1, 2, 7, 9,\n",
       "       1, 2, 1, 8, 4, 4, 2, 0, 6, 3, 7, 2, 0, 6, 0, 2, 5, 7, 8, 7, 8, 8,\n",
       "       5, 9, 7, 1, 0, 9, 2, 2, 0, 1, 5, 8, 7, 7, 7, 4, 0, 4, 1, 5, 4, 1,\n",
       "       1, 3, 3, 9, 2, 8, 1, 2, 4, 7, 6, 2, 9, 3, 4, 2, 2, 9, 1, 5, 2, 0,\n",
       "       9, 9, 5, 8, 2, 7, 2, 0, 6, 1, 2, 6, 8, 6, 4, 9, 0, 4, 9, 0, 1, 9,\n",
       "       5, 7, 0, 0, 9, 1, 1, 0, 1, 0, 0, 6, 5, 9, 6, 2, 8, 5, 0, 9, 1, 9,\n",
       "       4, 5, 1, 2, 9, 6, 7, 6, 0, 9, 4, 6, 3, 1, 8, 4, 4, 0, 9, 5, 0, 9,\n",
       "       7, 4, 1, 9, 6, 5, 8, 3, 6, 2, 2, 9, 7, 1, 1, 2, 2, 4, 1, 3, 5, 7,\n",
       "       2, 4, 9, 3, 3, 5, 0, 6, 8, 9, 0, 6, 6, 2, 1, 8, 6, 6, 2, 1, 0, 6,\n",
       "       4, 3, 0, 3, 8, 1, 4, 7, 4, 7, 6, 2, 1, 1, 9, 1, 8, 7, 3, 9, 6, 8,\n",
       "       1, 6, 1, 0, 9, 5, 5, 8, 0, 2, 9, 4, 5, 7, 3, 1, 5, 9, 9, 4, 4, 3,\n",
       "       1, 9, 8, 8, 7, 0, 6, 3, 3, 8, 2, 7, 3, 9, 7, 7, 8, 1, 6, 4, 5, 6,\n",
       "       9, 1, 1, 1, 6, 3, 4, 0, 0, 4, 0, 8, 0, 3, 0, 1, 0, 9, 5, 8, 7, 0,\n",
       "       5, 3, 2, 0, 7, 6, 7, 1])"
      ]
     },
     "execution_count": 9,
     "metadata": {},
     "output_type": "execute_result"
    }
   ],
   "source": [
    "y_hat"
   ]
  },
  {
   "cell_type": "code",
   "execution_count": 10,
   "metadata": {},
   "outputs": [
    {
     "data": {
      "text/plain": [
       "array([[42,  0,  0,  0,  0,  0,  0,  0,  0,  0],\n",
       "       [ 0, 44,  0,  0,  0,  0,  0,  0,  2,  1],\n",
       "       [ 0,  0, 39,  0,  0,  0,  0,  0,  0,  0],\n",
       "       [ 0,  0,  1, 24,  0,  0,  0,  0,  0,  0],\n",
       "       [ 0,  0,  0,  0, 34,  0,  0,  0,  0,  0],\n",
       "       [ 0,  0,  0,  0,  0, 36,  0,  0,  0,  0],\n",
       "       [ 0,  1,  0,  0,  0,  0, 36,  0,  0,  0],\n",
       "       [ 0,  0,  0,  0,  1,  0,  0, 34,  0,  0],\n",
       "       [ 0,  2,  0,  0,  0,  0,  0,  0, 29,  0],\n",
       "       [ 0,  0,  0,  1,  0,  0,  0,  0,  0, 33]])"
      ]
     },
     "execution_count": 10,
     "metadata": {},
     "output_type": "execute_result"
    }
   ],
   "source": [
    "confusion_matrix(test_y.reshape(-1), y_hat)"
   ]
  },
  {
   "cell_type": "code",
   "execution_count": 11,
   "metadata": {},
   "outputs": [
    {
     "data": {
      "text/plain": [
       "(array([1.        , 0.93617021, 0.975     , 0.96      , 0.97142857,\n",
       "        1.        , 1.        , 1.        , 0.93548387, 0.97058824]),\n",
       " array([1.        , 0.93617021, 1.        , 0.96      , 1.        ,\n",
       "        1.        , 0.97297297, 0.97142857, 0.93548387, 0.97058824]),\n",
       " array([1.        , 0.93617021, 0.98734177, 0.96      , 0.98550725,\n",
       "        1.        , 0.98630137, 0.98550725, 0.93548387, 0.97058824]),\n",
       " array([42, 47, 39, 25, 34, 36, 37, 35, 31, 34]))"
      ]
     },
     "execution_count": 11,
     "metadata": {},
     "output_type": "execute_result"
    }
   ],
   "source": [
    "precision_recall_fscore_support(test_y.reshape(-1), y_hat)"
   ]
  },
  {
   "cell_type": "code",
   "execution_count": 12,
   "metadata": {},
   "outputs": [
    {
     "data": {
      "text/plain": [
       "0.975"
      ]
     },
     "execution_count": 12,
     "metadata": {},
     "output_type": "execute_result"
    }
   ],
   "source": [
    "accuracy_score(test_y.reshape(-1), y_hat)"
   ]
  },
  {
   "cell_type": "markdown",
   "metadata": {},
   "source": [
    "Теперь попробуем сверточные и рекуррентные сети из Keras"
   ]
  },
  {
   "cell_type": "code",
   "execution_count": 13,
   "metadata": {},
   "outputs": [],
   "source": [
    "from tensorflow import keras\n",
    "from tensorflow.keras import layers\n",
    "from tensorflow.keras import Sequential"
   ]
  },
  {
   "cell_type": "markdown",
   "metadata": {},
   "source": [
    "Хорошо, сперва полносвязанная сеть."
   ]
  },
  {
   "cell_type": "code",
   "execution_count": 14,
   "metadata": {},
   "outputs": [],
   "source": [
    "model = keras.Sequential()\n",
    "model.add(layers.Dense(128, activation=\"tanh\", kernel_regularizer=keras.regularizers.l2(0.001)))\n",
    "model.add(layers.Dense(128, activation=\"tanh\", kernel_regularizer=keras.regularizers.l2(0.001)))\n",
    "model.add(layers.Dense(10, activation=\"softmax\"))\n",
    "model.compile(keras.optimizers.SGD(learning_rate=0.001), \n",
    "          keras.losses.MeanSquaredError(reduction='sum'),\n",
    "          metrics=['accuracy']\n",
    "         )\n"
   ]
  },
  {
   "cell_type": "code",
   "execution_count": 15,
   "metadata": {},
   "outputs": [],
   "source": [
    "train_y2 = []\n",
    "for y in train_y:\n",
    "    y2 = np.zeros(10)\n",
    "    y2[y] = 1\n",
    "    train_y2.append(y2)\n",
    "    \n",
    "test_y2 = []\n",
    "for y in test_y:\n",
    "    y2 = np.zeros(10)\n",
    "    y2[y] = 1\n",
    "    test_y2.append(y2)\n",
    "    \n",
    "train_y2 = np.array(train_y2)\n",
    "test_y2 = np.array(test_y2)"
   ]
  },
  {
   "cell_type": "code",
   "execution_count": 16,
   "metadata": {},
   "outputs": [
    {
     "data": {
      "text/plain": [
       "array([[0., 0., 0., ..., 0., 0., 0.],\n",
       "       [0., 0., 0., ..., 0., 0., 0.],\n",
       "       [0., 0., 0., ..., 0., 0., 0.],\n",
       "       ...,\n",
       "       [0., 0., 0., ..., 0., 1., 0.],\n",
       "       [0., 0., 0., ..., 0., 1., 0.],\n",
       "       [0., 0., 0., ..., 0., 0., 0.]])"
      ]
     },
     "execution_count": 16,
     "metadata": {},
     "output_type": "execute_result"
    }
   ],
   "source": [
    "train_y2"
   ]
  },
  {
   "cell_type": "code",
   "execution_count": 17,
   "metadata": {},
   "outputs": [
    {
     "name": "stdout",
     "output_type": "stream",
     "text": [
      "Epoch 1/100\n",
      "45/45 [==============================] - 0s 1ms/step - loss: 3.2573 - accuracy: 0.1113\n",
      "Epoch 2/100\n",
      "45/45 [==============================] - 0s 1ms/step - loss: 3.0886 - accuracy: 0.1914\n",
      "Epoch 3/100\n",
      "45/45 [==============================] - 0s 1ms/step - loss: 2.9366 - accuracy: 0.2874\n",
      "Epoch 4/100\n",
      "45/45 [==============================] - 0s 1ms/step - loss: 2.7863 - accuracy: 0.3653\n",
      "Epoch 5/100\n",
      "45/45 [==============================] - 0s 2ms/step - loss: 2.6358 - accuracy: 0.4572\n",
      "Epoch 6/100\n",
      "45/45 [==============================] - 0s 1ms/step - loss: 2.4833 - accuracy: 0.5379\n",
      "Epoch 7/100\n",
      "45/45 [==============================] - 0s 1ms/step - loss: 2.3309 - accuracy: 0.6096\n",
      "Epoch 8/100\n",
      "45/45 [==============================] - 0s 1ms/step - loss: 2.1810 - accuracy: 0.6555\n",
      "Epoch 9/100\n",
      "45/45 [==============================] - 0s 1ms/step - loss: 2.0414 - accuracy: 0.6882\n",
      "Epoch 10/100\n",
      "45/45 [==============================] - 0s 1ms/step - loss: 1.9149 - accuracy: 0.7182\n",
      "Epoch 11/100\n",
      "45/45 [==============================] - 0s 1ms/step - loss: 1.8010 - accuracy: 0.7390\n",
      "Epoch 12/100\n",
      "45/45 [==============================] - 0s 1ms/step - loss: 1.6996 - accuracy: 0.7543\n",
      "Epoch 13/100\n",
      "45/45 [==============================] - 0s 2ms/step - loss: 1.6077 - accuracy: 0.7724\n",
      "Epoch 14/100\n",
      "45/45 [==============================] - 0s 1ms/step - loss: 1.5241 - accuracy: 0.7843\n",
      "Epoch 15/100\n",
      "45/45 [==============================] - 0s 1ms/step - loss: 1.4462 - accuracy: 0.8017\n",
      "Epoch 16/100\n",
      "45/45 [==============================] - 0s 1ms/step - loss: 1.3722 - accuracy: 0.8177\n",
      "Epoch 17/100\n",
      "45/45 [==============================] - 0s 1ms/step - loss: 1.2998 - accuracy: 0.8413\n",
      "Epoch 18/100\n",
      "45/45 [==============================] - 0s 1ms/step - loss: 1.2286 - accuracy: 0.8657\n",
      "Epoch 19/100\n",
      "45/45 [==============================] - 0s 1ms/step - loss: 1.1616 - accuracy: 0.8761\n",
      "Epoch 20/100\n",
      "45/45 [==============================] - 0s 1ms/step - loss: 1.1016 - accuracy: 0.8880\n",
      "Epoch 21/100\n",
      "45/45 [==============================] - 0s 1ms/step - loss: 1.0478 - accuracy: 0.8935\n",
      "Epoch 22/100\n",
      "45/45 [==============================] - 0s 1ms/step - loss: 1.0008 - accuracy: 0.9047\n",
      "Epoch 23/100\n",
      "45/45 [==============================] - 0s 1ms/step - loss: 0.9586 - accuracy: 0.9109\n",
      "Epoch 24/100\n",
      "45/45 [==============================] - 0s 1ms/step - loss: 0.9209 - accuracy: 0.9144\n",
      "Epoch 25/100\n",
      "45/45 [==============================] - 0s 1ms/step - loss: 0.8874 - accuracy: 0.9172\n",
      "Epoch 26/100\n",
      "45/45 [==============================] - 0s 1ms/step - loss: 0.8562 - accuracy: 0.9221\n",
      "Epoch 27/100\n",
      "45/45 [==============================] - 0s 1ms/step - loss: 0.8277 - accuracy: 0.9241\n",
      "Epoch 28/100\n",
      "45/45 [==============================] - 0s 1ms/step - loss: 0.8022 - accuracy: 0.9290\n",
      "Epoch 29/100\n",
      "45/45 [==============================] - 0s 1ms/step - loss: 0.7780 - accuracy: 0.9325\n",
      "Epoch 30/100\n",
      "45/45 [==============================] - 0s 1ms/step - loss: 0.7557 - accuracy: 0.9353\n",
      "Epoch 31/100\n",
      "45/45 [==============================] - 0s 1ms/step - loss: 0.7350 - accuracy: 0.9374\n",
      "Epoch 32/100\n",
      "45/45 [==============================] - 0s 1ms/step - loss: 0.7160 - accuracy: 0.9395\n",
      "Epoch 33/100\n",
      "45/45 [==============================] - 0s 1ms/step - loss: 0.6977 - accuracy: 0.9415\n",
      "Epoch 34/100\n",
      "45/45 [==============================] - 0s 1ms/step - loss: 0.6812 - accuracy: 0.9429\n",
      "Epoch 35/100\n",
      "45/45 [==============================] - 0s 2ms/step - loss: 0.6652 - accuracy: 0.9450\n",
      "Epoch 36/100\n",
      "45/45 [==============================] - 0s 2ms/step - loss: 0.6499 - accuracy: 0.9492\n",
      "Epoch 37/100\n",
      "45/45 [==============================] - 0s 2ms/step - loss: 0.6356 - accuracy: 0.9492\n",
      "Epoch 38/100\n",
      "45/45 [==============================] - 0s 1ms/step - loss: 0.6228 - accuracy: 0.9520\n",
      "Epoch 39/100\n",
      "45/45 [==============================] - 0s 2ms/step - loss: 0.6101 - accuracy: 0.9555\n",
      "Epoch 40/100\n",
      "45/45 [==============================] - 0s 1ms/step - loss: 0.5979 - accuracy: 0.9562\n",
      "Epoch 41/100\n",
      "45/45 [==============================] - 0s 1ms/step - loss: 0.5861 - accuracy: 0.9562\n",
      "Epoch 42/100\n",
      "45/45 [==============================] - 0s 1ms/step - loss: 0.5761 - accuracy: 0.9569\n",
      "Epoch 43/100\n",
      "45/45 [==============================] - 0s 2ms/step - loss: 0.5659 - accuracy: 0.9589\n",
      "Epoch 44/100\n",
      "45/45 [==============================] - 0s 1ms/step - loss: 0.5558 - accuracy: 0.9617\n",
      "Epoch 45/100\n",
      "45/45 [==============================] - 0s 1ms/step - loss: 0.5471 - accuracy: 0.9624\n",
      "Epoch 46/100\n",
      "45/45 [==============================] - 0s 1ms/step - loss: 0.5380 - accuracy: 0.9631\n",
      "Epoch 47/100\n",
      "45/45 [==============================] - 0s 1ms/step - loss: 0.5296 - accuracy: 0.9652\n",
      "Epoch 48/100\n",
      "45/45 [==============================] - 0s 1ms/step - loss: 0.5216 - accuracy: 0.9673\n",
      "Epoch 49/100\n",
      "45/45 [==============================] - 0s 1ms/step - loss: 0.5139 - accuracy: 0.9694\n",
      "Epoch 50/100\n",
      "45/45 [==============================] - 0s 1ms/step - loss: 0.5062 - accuracy: 0.9687\n",
      "Epoch 51/100\n",
      "45/45 [==============================] - 0s 1ms/step - loss: 0.4995 - accuracy: 0.9722\n",
      "Epoch 52/100\n",
      "45/45 [==============================] - 0s 1ms/step - loss: 0.4921 - accuracy: 0.9722\n",
      "Epoch 53/100\n",
      "45/45 [==============================] - 0s 1ms/step - loss: 0.4857 - accuracy: 0.9729\n",
      "Epoch 54/100\n",
      "45/45 [==============================] - 0s 2ms/step - loss: 0.4796 - accuracy: 0.9729\n",
      "Epoch 55/100\n",
      "45/45 [==============================] - 0s 1ms/step - loss: 0.4738 - accuracy: 0.9756\n",
      "Epoch 56/100\n",
      "45/45 [==============================] - 0s 1ms/step - loss: 0.4679 - accuracy: 0.9749\n",
      "Epoch 57/100\n",
      "45/45 [==============================] - 0s 1ms/step - loss: 0.4627 - accuracy: 0.9749\n",
      "Epoch 58/100\n",
      "45/45 [==============================] - 0s 1ms/step - loss: 0.4572 - accuracy: 0.9763\n",
      "Epoch 59/100\n",
      "45/45 [==============================] - 0s 1ms/step - loss: 0.4518 - accuracy: 0.9763\n",
      "Epoch 60/100\n",
      "45/45 [==============================] - 0s 1ms/step - loss: 0.4468 - accuracy: 0.9756\n",
      "Epoch 61/100\n",
      "45/45 [==============================] - 0s 1ms/step - loss: 0.4423 - accuracy: 0.9770\n",
      "Epoch 62/100\n",
      "45/45 [==============================] - 0s 1ms/step - loss: 0.4378 - accuracy: 0.9777\n",
      "Epoch 63/100\n",
      "45/45 [==============================] - 0s 1ms/step - loss: 0.4332 - accuracy: 0.9777\n",
      "Epoch 64/100\n",
      "45/45 [==============================] - 0s 1ms/step - loss: 0.4283 - accuracy: 0.9777\n",
      "Epoch 65/100\n",
      "45/45 [==============================] - 0s 1ms/step - loss: 0.4243 - accuracy: 0.9784\n",
      "Epoch 66/100\n",
      "45/45 [==============================] - 0s 1ms/step - loss: 0.4205 - accuracy: 0.9798\n",
      "Epoch 67/100\n",
      "45/45 [==============================] - 0s 1ms/step - loss: 0.4163 - accuracy: 0.9798\n",
      "Epoch 68/100\n",
      "45/45 [==============================] - 0s 1ms/step - loss: 0.4127 - accuracy: 0.9812\n",
      "Epoch 69/100\n",
      "45/45 [==============================] - 0s 1ms/step - loss: 0.4094 - accuracy: 0.9819\n",
      "Epoch 70/100\n",
      "45/45 [==============================] - 0s 1ms/step - loss: 0.4060 - accuracy: 0.9826\n",
      "Epoch 71/100\n",
      "45/45 [==============================] - 0s 1ms/step - loss: 0.4025 - accuracy: 0.9826\n",
      "Epoch 72/100\n",
      "45/45 [==============================] - 0s 1ms/step - loss: 0.3992 - accuracy: 0.9826\n",
      "Epoch 73/100\n",
      "45/45 [==============================] - 0s 1ms/step - loss: 0.3960 - accuracy: 0.9826\n",
      "Epoch 74/100\n",
      "45/45 [==============================] - 0s 1ms/step - loss: 0.3928 - accuracy: 0.9826\n",
      "Epoch 75/100\n",
      "45/45 [==============================] - 0s 1ms/step - loss: 0.3895 - accuracy: 0.9826\n",
      "Epoch 76/100\n",
      "45/45 [==============================] - 0s 1ms/step - loss: 0.3870 - accuracy: 0.9833\n",
      "Epoch 77/100\n",
      "45/45 [==============================] - 0s 1ms/step - loss: 0.3843 - accuracy: 0.9826\n",
      "Epoch 78/100\n",
      "45/45 [==============================] - 0s 1ms/step - loss: 0.3812 - accuracy: 0.9833\n",
      "Epoch 79/100\n",
      "45/45 [==============================] - 0s 1ms/step - loss: 0.3785 - accuracy: 0.9826\n",
      "Epoch 80/100\n",
      "45/45 [==============================] - 0s 1ms/step - loss: 0.3763 - accuracy: 0.9826\n",
      "Epoch 81/100\n",
      "45/45 [==============================] - 0s 1ms/step - loss: 0.3730 - accuracy: 0.9833\n",
      "Epoch 82/100\n",
      "45/45 [==============================] - 0s 1ms/step - loss: 0.3711 - accuracy: 0.9833\n",
      "Epoch 83/100\n"
     ]
    },
    {
     "name": "stdout",
     "output_type": "stream",
     "text": [
      "45/45 [==============================] - 0s 1ms/step - loss: 0.3688 - accuracy: 0.9833\n",
      "Epoch 84/100\n",
      "45/45 [==============================] - 0s 1ms/step - loss: 0.3666 - accuracy: 0.9840\n",
      "Epoch 85/100\n",
      "45/45 [==============================] - 0s 1ms/step - loss: 0.3645 - accuracy: 0.9840\n",
      "Epoch 86/100\n",
      "45/45 [==============================] - 0s 1ms/step - loss: 0.3619 - accuracy: 0.9847\n",
      "Epoch 87/100\n",
      "45/45 [==============================] - 0s 1ms/step - loss: 0.3598 - accuracy: 0.9840\n",
      "Epoch 88/100\n",
      "45/45 [==============================] - 0s 1ms/step - loss: 0.3580 - accuracy: 0.9847\n",
      "Epoch 89/100\n",
      "45/45 [==============================] - 0s 1ms/step - loss: 0.3558 - accuracy: 0.9854\n",
      "Epoch 90/100\n",
      "45/45 [==============================] - 0s 1ms/step - loss: 0.3540 - accuracy: 0.9861\n",
      "Epoch 91/100\n",
      "45/45 [==============================] - 0s 1ms/step - loss: 0.3519 - accuracy: 0.9868\n",
      "Epoch 92/100\n",
      "45/45 [==============================] - 0s 1ms/step - loss: 0.3502 - accuracy: 0.9868\n",
      "Epoch 93/100\n",
      "45/45 [==============================] - 0s 1ms/step - loss: 0.3479 - accuracy: 0.9875\n",
      "Epoch 94/100\n",
      "45/45 [==============================] - 0s 1ms/step - loss: 0.3466 - accuracy: 0.9875\n",
      "Epoch 95/100\n",
      "45/45 [==============================] - 0s 1ms/step - loss: 0.3444 - accuracy: 0.9875\n",
      "Epoch 96/100\n",
      "45/45 [==============================] - 0s 1ms/step - loss: 0.3429 - accuracy: 0.9875\n",
      "Epoch 97/100\n",
      "45/45 [==============================] - 0s 1ms/step - loss: 0.3409 - accuracy: 0.9875\n",
      "Epoch 98/100\n",
      "45/45 [==============================] - 0s 1ms/step - loss: 0.3398 - accuracy: 0.9875\n",
      "Epoch 99/100\n",
      "45/45 [==============================] - 0s 1ms/step - loss: 0.3382 - accuracy: 0.9875\n",
      "Epoch 100/100\n",
      "45/45 [==============================] - 0s 1ms/step - loss: 0.3364 - accuracy: 0.9875\n"
     ]
    },
    {
     "data": {
      "text/plain": [
       "<tensorflow.python.keras.callbacks.History at 0x7f68981b1240>"
      ]
     },
     "execution_count": 17,
     "metadata": {},
     "output_type": "execute_result"
    }
   ],
   "source": [
    "model.fit(train_x, train_y2, epochs=100)"
   ]
  },
  {
   "cell_type": "code",
   "execution_count": 18,
   "metadata": {},
   "outputs": [],
   "source": [
    "y_hat = model.predict(test_x)"
   ]
  },
  {
   "cell_type": "code",
   "execution_count": 19,
   "metadata": {},
   "outputs": [
    {
     "data": {
      "text/plain": [
       "array([[3.83038400e-03, 1.35019945e-03, 4.27016942e-03, ...,\n",
       "        5.59367589e-04, 7.37461681e-03, 2.53849983e-04],\n",
       "       [1.37325109e-03, 9.29295480e-01, 2.46287864e-02, ...,\n",
       "        2.30596255e-04, 6.21364545e-03, 6.05499279e-03],\n",
       "       [1.12199935e-03, 1.28262525e-03, 2.33234428e-02, ...,\n",
       "        9.57780123e-01, 6.09438401e-03, 5.27596509e-04],\n",
       "       ...,\n",
       "       [4.41143056e-03, 3.75998759e-04, 2.83357501e-03, ...,\n",
       "        2.06508231e-03, 1.20894695e-02, 1.37963667e-04],\n",
       "       [2.12029205e-03, 2.44321092e-03, 5.49480412e-03, ...,\n",
       "        9.72295642e-01, 6.96679484e-03, 1.59243995e-03],\n",
       "       [3.82971428e-02, 3.77374500e-01, 9.50216968e-03, ...,\n",
       "        6.03742041e-02, 2.46788651e-01, 2.29069460e-02]], dtype=float32)"
      ]
     },
     "execution_count": 19,
     "metadata": {},
     "output_type": "execute_result"
    }
   ],
   "source": [
    "y_hat"
   ]
  },
  {
   "cell_type": "code",
   "execution_count": 20,
   "metadata": {},
   "outputs": [
    {
     "data": {
      "text/plain": [
       "array([[6, 1, 7, 9, 2, 6, 2, 2, 5, 0, 4, 5, 1, 5, 2, 4, 5, 5, 3, 7, 7, 2,\n",
       "        4, 5, 8, 2, 8, 1, 9, 5, 8, 0, 7, 4, 0, 5, 5, 7, 0, 1, 6, 2, 8, 8,\n",
       "        5, 8, 1, 4, 4, 7, 4, 1, 6, 3, 0, 5, 2, 5, 2, 6, 0, 6, 1, 7, 6, 4,\n",
       "        2, 5, 1, 3, 0, 7, 5, 4, 0, 6, 1, 3, 5, 2, 4, 6, 1, 8, 8, 2, 7, 9,\n",
       "        1, 2, 1, 8, 4, 4, 3, 0, 6, 3, 7, 2, 0, 6, 0, 2, 5, 7, 8, 7, 8, 8,\n",
       "        5, 9, 7, 1, 0, 9, 2, 2, 0, 1, 5, 8, 7, 7, 7, 4, 0, 4, 1, 5, 4, 1,\n",
       "        1, 3, 3, 9, 2, 8, 1, 2, 4, 7, 6, 2, 9, 3, 4, 2, 2, 9, 1, 5, 2, 0,\n",
       "        9, 9, 5, 8, 2, 7, 2, 0, 6, 1, 2, 6, 8, 6, 4, 9, 0, 4, 9, 0, 1, 9,\n",
       "        5, 7, 0, 0, 9, 1, 1, 0, 1, 0, 0, 6, 5, 9, 6, 2, 8, 5, 0, 9, 1, 9,\n",
       "        4, 5, 1, 2, 9, 6, 7, 6, 0, 9, 4, 6, 3, 1, 8, 4, 4, 0, 9, 5, 0, 9,\n",
       "        7, 7, 1, 9, 6, 5, 8, 3, 6, 2, 2, 9, 7, 1, 1, 2, 2, 4, 1, 3, 5, 7,\n",
       "        2, 4, 1, 3, 3, 5, 0, 6, 8, 9, 0, 6, 6, 2, 1, 8, 6, 6, 2, 1, 0, 6,\n",
       "        4, 3, 0, 3, 8, 1, 4, 7, 4, 7, 6, 2, 1, 1, 9, 1, 1, 7, 3, 9, 6, 8,\n",
       "        8, 6, 1, 0, 9, 5, 5, 8, 0, 2, 9, 4, 5, 7, 3, 1, 5, 9, 9, 4, 4, 3,\n",
       "        1, 9, 8, 8, 7, 0, 6, 3, 3, 8, 2, 7, 3, 9, 7, 7, 8, 1, 6, 4, 5, 6,\n",
       "        9, 6, 1, 1, 6, 3, 4, 0, 0, 4, 0, 8, 0, 3, 0, 1, 0, 9, 5, 8, 7, 0,\n",
       "        5, 3, 2, 0, 7, 6, 7, 1]])"
      ]
     },
     "execution_count": 20,
     "metadata": {},
     "output_type": "execute_result"
    }
   ],
   "source": [
    "test_y"
   ]
  },
  {
   "cell_type": "code",
   "execution_count": 21,
   "metadata": {},
   "outputs": [],
   "source": [
    "y_hat = [np.argmax(y) for y in y_hat]"
   ]
  },
  {
   "cell_type": "code",
   "execution_count": 22,
   "metadata": {},
   "outputs": [
    {
     "data": {
      "text/plain": [
       "[6,\n",
       " 1,\n",
       " 7,\n",
       " 9,\n",
       " 2,\n",
       " 6,\n",
       " 2,\n",
       " 2,\n",
       " 5,\n",
       " 0,\n",
       " 4,\n",
       " 5,\n",
       " 1,\n",
       " 5,\n",
       " 2,\n",
       " 4,\n",
       " 5,\n",
       " 5,\n",
       " 3,\n",
       " 7,\n",
       " 7,\n",
       " 2,\n",
       " 4,\n",
       " 5,\n",
       " 8,\n",
       " 2,\n",
       " 8,\n",
       " 1,\n",
       " 3,\n",
       " 5,\n",
       " 8,\n",
       " 0,\n",
       " 7,\n",
       " 4,\n",
       " 0,\n",
       " 5,\n",
       " 5,\n",
       " 7,\n",
       " 0,\n",
       " 1,\n",
       " 6,\n",
       " 2,\n",
       " 8,\n",
       " 8,\n",
       " 5,\n",
       " 8,\n",
       " 1,\n",
       " 4,\n",
       " 4,\n",
       " 7,\n",
       " 4,\n",
       " 1,\n",
       " 6,\n",
       " 3,\n",
       " 0,\n",
       " 5,\n",
       " 2,\n",
       " 5,\n",
       " 2,\n",
       " 6,\n",
       " 0,\n",
       " 6,\n",
       " 1,\n",
       " 7,\n",
       " 6,\n",
       " 4,\n",
       " 2,\n",
       " 5,\n",
       " 1,\n",
       " 3,\n",
       " 0,\n",
       " 7,\n",
       " 5,\n",
       " 4,\n",
       " 0,\n",
       " 6,\n",
       " 1,\n",
       " 3,\n",
       " 5,\n",
       " 2,\n",
       " 4,\n",
       " 6,\n",
       " 1,\n",
       " 8,\n",
       " 1,\n",
       " 2,\n",
       " 7,\n",
       " 9,\n",
       " 1,\n",
       " 2,\n",
       " 1,\n",
       " 8,\n",
       " 4,\n",
       " 4,\n",
       " 8,\n",
       " 0,\n",
       " 6,\n",
       " 3,\n",
       " 7,\n",
       " 2,\n",
       " 0,\n",
       " 6,\n",
       " 0,\n",
       " 2,\n",
       " 5,\n",
       " 7,\n",
       " 8,\n",
       " 7,\n",
       " 8,\n",
       " 8,\n",
       " 5,\n",
       " 9,\n",
       " 7,\n",
       " 1,\n",
       " 0,\n",
       " 9,\n",
       " 2,\n",
       " 2,\n",
       " 0,\n",
       " 1,\n",
       " 5,\n",
       " 8,\n",
       " 7,\n",
       " 7,\n",
       " 7,\n",
       " 4,\n",
       " 0,\n",
       " 4,\n",
       " 1,\n",
       " 5,\n",
       " 4,\n",
       " 1,\n",
       " 1,\n",
       " 3,\n",
       " 3,\n",
       " 9,\n",
       " 2,\n",
       " 8,\n",
       " 1,\n",
       " 2,\n",
       " 4,\n",
       " 7,\n",
       " 6,\n",
       " 2,\n",
       " 9,\n",
       " 3,\n",
       " 4,\n",
       " 1,\n",
       " 2,\n",
       " 9,\n",
       " 1,\n",
       " 5,\n",
       " 2,\n",
       " 0,\n",
       " 9,\n",
       " 9,\n",
       " 5,\n",
       " 8,\n",
       " 2,\n",
       " 7,\n",
       " 2,\n",
       " 0,\n",
       " 6,\n",
       " 1,\n",
       " 2,\n",
       " 6,\n",
       " 8,\n",
       " 6,\n",
       " 4,\n",
       " 9,\n",
       " 0,\n",
       " 4,\n",
       " 9,\n",
       " 0,\n",
       " 1,\n",
       " 9,\n",
       " 9,\n",
       " 7,\n",
       " 0,\n",
       " 0,\n",
       " 9,\n",
       " 1,\n",
       " 1,\n",
       " 0,\n",
       " 1,\n",
       " 0,\n",
       " 0,\n",
       " 6,\n",
       " 5,\n",
       " 9,\n",
       " 6,\n",
       " 2,\n",
       " 8,\n",
       " 5,\n",
       " 0,\n",
       " 9,\n",
       " 1,\n",
       " 9,\n",
       " 4,\n",
       " 5,\n",
       " 1,\n",
       " 2,\n",
       " 9,\n",
       " 6,\n",
       " 7,\n",
       " 6,\n",
       " 0,\n",
       " 9,\n",
       " 4,\n",
       " 6,\n",
       " 3,\n",
       " 1,\n",
       " 8,\n",
       " 4,\n",
       " 4,\n",
       " 0,\n",
       " 9,\n",
       " 5,\n",
       " 0,\n",
       " 9,\n",
       " 7,\n",
       " 7,\n",
       " 1,\n",
       " 9,\n",
       " 6,\n",
       " 5,\n",
       " 8,\n",
       " 3,\n",
       " 6,\n",
       " 2,\n",
       " 2,\n",
       " 9,\n",
       " 7,\n",
       " 1,\n",
       " 1,\n",
       " 2,\n",
       " 2,\n",
       " 4,\n",
       " 1,\n",
       " 3,\n",
       " 5,\n",
       " 7,\n",
       " 2,\n",
       " 4,\n",
       " 1,\n",
       " 3,\n",
       " 3,\n",
       " 5,\n",
       " 0,\n",
       " 6,\n",
       " 8,\n",
       " 9,\n",
       " 0,\n",
       " 6,\n",
       " 6,\n",
       " 2,\n",
       " 1,\n",
       " 8,\n",
       " 6,\n",
       " 6,\n",
       " 2,\n",
       " 1,\n",
       " 0,\n",
       " 6,\n",
       " 4,\n",
       " 3,\n",
       " 0,\n",
       " 3,\n",
       " 8,\n",
       " 1,\n",
       " 4,\n",
       " 7,\n",
       " 4,\n",
       " 7,\n",
       " 6,\n",
       " 2,\n",
       " 1,\n",
       " 1,\n",
       " 9,\n",
       " 1,\n",
       " 1,\n",
       " 7,\n",
       " 3,\n",
       " 9,\n",
       " 6,\n",
       " 8,\n",
       " 1,\n",
       " 6,\n",
       " 1,\n",
       " 0,\n",
       " 9,\n",
       " 5,\n",
       " 5,\n",
       " 8,\n",
       " 0,\n",
       " 2,\n",
       " 9,\n",
       " 4,\n",
       " 5,\n",
       " 7,\n",
       " 3,\n",
       " 1,\n",
       " 5,\n",
       " 9,\n",
       " 9,\n",
       " 4,\n",
       " 4,\n",
       " 3,\n",
       " 1,\n",
       " 9,\n",
       " 8,\n",
       " 8,\n",
       " 7,\n",
       " 0,\n",
       " 6,\n",
       " 3,\n",
       " 3,\n",
       " 8,\n",
       " 2,\n",
       " 7,\n",
       " 3,\n",
       " 9,\n",
       " 7,\n",
       " 7,\n",
       " 8,\n",
       " 1,\n",
       " 6,\n",
       " 4,\n",
       " 5,\n",
       " 6,\n",
       " 9,\n",
       " 6,\n",
       " 1,\n",
       " 1,\n",
       " 6,\n",
       " 3,\n",
       " 4,\n",
       " 0,\n",
       " 0,\n",
       " 4,\n",
       " 0,\n",
       " 8,\n",
       " 0,\n",
       " 3,\n",
       " 0,\n",
       " 1,\n",
       " 0,\n",
       " 9,\n",
       " 5,\n",
       " 8,\n",
       " 7,\n",
       " 0,\n",
       " 5,\n",
       " 3,\n",
       " 2,\n",
       " 0,\n",
       " 7,\n",
       " 6,\n",
       " 7,\n",
       " 1]"
      ]
     },
     "execution_count": 22,
     "metadata": {},
     "output_type": "execute_result"
    }
   ],
   "source": [
    "y_hat"
   ]
  },
  {
   "cell_type": "code",
   "execution_count": 23,
   "metadata": {},
   "outputs": [
    {
     "data": {
      "text/plain": [
       "array([[42,  0,  0,  0,  0,  0,  0,  0,  0,  0],\n",
       "       [ 0, 47,  0,  0,  0,  0,  0,  0,  0,  0],\n",
       "       [ 0,  1, 38,  0,  0,  0,  0,  0,  0,  0],\n",
       "       [ 0,  0,  0, 24,  0,  0,  0,  0,  1,  0],\n",
       "       [ 0,  0,  0,  0, 34,  0,  0,  0,  0,  0],\n",
       "       [ 0,  0,  0,  0,  0, 35,  0,  0,  0,  1],\n",
       "       [ 0,  0,  0,  0,  0,  0, 37,  0,  0,  0],\n",
       "       [ 0,  0,  0,  0,  0,  0,  0, 35,  0,  0],\n",
       "       [ 0,  2,  0,  0,  0,  0,  0,  0, 29,  0],\n",
       "       [ 0,  0,  0,  1,  0,  0,  0,  0,  0, 33]])"
      ]
     },
     "execution_count": 23,
     "metadata": {},
     "output_type": "execute_result"
    }
   ],
   "source": [
    "confusion_matrix(test_y.reshape(-1), y_hat)"
   ]
  },
  {
   "cell_type": "code",
   "execution_count": 24,
   "metadata": {},
   "outputs": [
    {
     "data": {
      "text/plain": [
       "(array([1.        , 0.94      , 1.        , 0.96      , 1.        ,\n",
       "        1.        , 1.        , 1.        , 0.96666667, 0.97058824]),\n",
       " array([1.        , 1.        , 0.97435897, 0.96      , 1.        ,\n",
       "        0.97222222, 1.        , 1.        , 0.93548387, 0.97058824]),\n",
       " array([1.        , 0.96907216, 0.98701299, 0.96      , 1.        ,\n",
       "        0.98591549, 1.        , 1.        , 0.95081967, 0.97058824]),\n",
       " array([42, 47, 39, 25, 34, 36, 37, 35, 31, 34]))"
      ]
     },
     "execution_count": 24,
     "metadata": {},
     "output_type": "execute_result"
    }
   ],
   "source": [
    "precision_recall_fscore_support(test_y.reshape(-1), y_hat)"
   ]
  },
  {
   "cell_type": "code",
   "execution_count": 25,
   "metadata": {},
   "outputs": [
    {
     "data": {
      "text/plain": [
       "0.9833333333333333"
      ]
     },
     "execution_count": 25,
     "metadata": {},
     "output_type": "execute_result"
    }
   ],
   "source": [
    "accuracy_score(test_y.reshape(-1), y_hat)"
   ]
  },
  {
   "cell_type": "code",
   "execution_count": 26,
   "metadata": {
    "scrolled": true
   },
   "outputs": [
    {
     "name": "stdout",
     "output_type": "stream",
     "text": [
      "Model: \"sequential\"\n",
      "_________________________________________________________________\n",
      "Layer (type)                 Output Shape              Param #   \n",
      "=================================================================\n",
      "dense (Dense)                multiple                  8320      \n",
      "_________________________________________________________________\n",
      "dense_1 (Dense)              multiple                  16512     \n",
      "_________________________________________________________________\n",
      "dense_2 (Dense)              multiple                  1290      \n",
      "=================================================================\n",
      "Total params: 26,122\n",
      "Trainable params: 26,122\n",
      "Non-trainable params: 0\n",
      "_________________________________________________________________\n"
     ]
    }
   ],
   "source": [
    "model.summary()"
   ]
  },
  {
   "cell_type": "markdown",
   "metadata": {},
   "source": [
    "Теперь сверточные сети."
   ]
  },
  {
   "cell_type": "code",
   "execution_count": 27,
   "metadata": {},
   "outputs": [],
   "source": [
    "model = keras.Sequential()\n",
    "model.add(layers.Conv1D(32, 3, activation='relu'))\n",
    "model.add(layers.Conv1D(32, 3, activation='relu'))\n",
    "model.add(layers.Flatten())\n",
    "model.add(layers.Dense(10, activation=\"softmax\"))\n",
    "\n",
    "model.compile(keras.optimizers.Adam(learning_rate=0.001), keras.losses.MeanSquaredError(reduction='sum'))\n"
   ]
  },
  {
   "cell_type": "code",
   "execution_count": 28,
   "metadata": {},
   "outputs": [],
   "source": [
    "train_x3 = train_x.reshape(-1, 64, 1)\n",
    "train_y3 = train_y2.reshape(-1, 10, 1)\n",
    "test_x3 = test_x.reshape(-1, 64, 1)\n",
    "test_y3 = test_y2.reshape(-1, 10, 1)"
   ]
  },
  {
   "cell_type": "code",
   "execution_count": 29,
   "metadata": {},
   "outputs": [
    {
     "name": "stdout",
     "output_type": "stream",
     "text": [
      "Epoch 1/20\n",
      "45/45 [==============================] - 0s 3ms/step - loss: 1.7866\n",
      "Epoch 2/20\n",
      "45/45 [==============================] - 0s 3ms/step - loss: 1.0138\n",
      "Epoch 3/20\n",
      "45/45 [==============================] - 0s 3ms/step - loss: 0.9008\n",
      "Epoch 4/20\n",
      "45/45 [==============================] - 0s 3ms/step - loss: 0.5518\n",
      "Epoch 5/20\n",
      "45/45 [==============================] - 0s 3ms/step - loss: 0.4961\n",
      "Epoch 6/20\n",
      "45/45 [==============================] - 0s 3ms/step - loss: 0.4921\n",
      "Epoch 7/20\n",
      "45/45 [==============================] - 0s 3ms/step - loss: 0.4486\n",
      "Epoch 8/20\n",
      "45/45 [==============================] - 0s 3ms/step - loss: 0.4421\n",
      "Epoch 9/20\n",
      "45/45 [==============================] - 0s 3ms/step - loss: 0.4237\n",
      "Epoch 10/20\n",
      "45/45 [==============================] - 0s 3ms/step - loss: 0.4174\n",
      "Epoch 11/20\n",
      "45/45 [==============================] - 0s 3ms/step - loss: 0.4281\n",
      "Epoch 12/20\n",
      "45/45 [==============================] - 0s 3ms/step - loss: 0.3836\n",
      "Epoch 13/20\n",
      "45/45 [==============================] - 0s 3ms/step - loss: 0.1871\n",
      "Epoch 14/20\n",
      "45/45 [==============================] - 0s 3ms/step - loss: 0.0584\n",
      "Epoch 15/20\n",
      "45/45 [==============================] - 0s 3ms/step - loss: 0.0542\n",
      "Epoch 16/20\n",
      "45/45 [==============================] - 0s 3ms/step - loss: 0.0222\n",
      "Epoch 17/20\n",
      "45/45 [==============================] - 0s 3ms/step - loss: 0.0144\n",
      "Epoch 18/20\n",
      "45/45 [==============================] - 0s 3ms/step - loss: 0.0069\n",
      "Epoch 19/20\n",
      "45/45 [==============================] - 0s 3ms/step - loss: 0.0042\n",
      "Epoch 20/20\n",
      "45/45 [==============================] - 0s 3ms/step - loss: 0.0041\n"
     ]
    },
    {
     "data": {
      "text/plain": [
       "<tensorflow.python.keras.callbacks.History at 0x7f6898036908>"
      ]
     },
     "execution_count": 29,
     "metadata": {},
     "output_type": "execute_result"
    }
   ],
   "source": [
    "model.fit(train_x3, train_y3, epochs=20)#, validation_data=(test_x3, test_y3))"
   ]
  },
  {
   "cell_type": "code",
   "execution_count": 30,
   "metadata": {},
   "outputs": [],
   "source": [
    "y_hat = model.predict(test_x3)"
   ]
  },
  {
   "cell_type": "code",
   "execution_count": 31,
   "metadata": {},
   "outputs": [],
   "source": [
    "y_hat = [np.argmax(y) for y in y_hat]"
   ]
  },
  {
   "cell_type": "code",
   "execution_count": 32,
   "metadata": {},
   "outputs": [
    {
     "data": {
      "text/plain": [
       "array([[42,  0,  0,  0,  0,  0,  0,  0,  0,  0],\n",
       "       [ 0, 44,  0,  1,  0,  0,  0,  0,  0,  2],\n",
       "       [ 0,  0, 39,  0,  0,  0,  0,  0,  0,  0],\n",
       "       [ 0,  0,  0, 25,  0,  0,  0,  0,  0,  0],\n",
       "       [ 0,  1,  0,  0, 33,  0,  0,  0,  0,  0],\n",
       "       [ 0,  0,  0,  0,  0, 36,  0,  0,  0,  0],\n",
       "       [ 0,  1,  0,  0,  0,  0, 36,  0,  0,  0],\n",
       "       [ 0,  0,  0,  0,  0,  0,  0, 35,  0,  0],\n",
       "       [ 0,  2,  1,  0,  1,  0,  0,  1, 26,  0],\n",
       "       [ 0,  0,  0,  1,  0,  0,  0,  0,  1, 32]])"
      ]
     },
     "execution_count": 32,
     "metadata": {},
     "output_type": "execute_result"
    }
   ],
   "source": [
    "confusion_matrix(test_y.reshape(-1), y_hat)"
   ]
  },
  {
   "cell_type": "code",
   "execution_count": 33,
   "metadata": {},
   "outputs": [
    {
     "data": {
      "text/plain": [
       "(array([1.        , 0.91666667, 0.975     , 0.92592593, 0.97058824,\n",
       "        1.        , 1.        , 0.97222222, 0.96296296, 0.94117647]),\n",
       " array([1.        , 0.93617021, 1.        , 1.        , 0.97058824,\n",
       "        1.        , 0.97297297, 1.        , 0.83870968, 0.94117647]),\n",
       " array([1.        , 0.92631579, 0.98734177, 0.96153846, 0.97058824,\n",
       "        1.        , 0.98630137, 0.98591549, 0.89655172, 0.94117647]),\n",
       " array([42, 47, 39, 25, 34, 36, 37, 35, 31, 34]))"
      ]
     },
     "execution_count": 33,
     "metadata": {},
     "output_type": "execute_result"
    }
   ],
   "source": [
    "precision_recall_fscore_support(test_y.reshape(-1), y_hat)"
   ]
  },
  {
   "cell_type": "code",
   "execution_count": 34,
   "metadata": {},
   "outputs": [
    {
     "data": {
      "text/plain": [
       "0.9666666666666667"
      ]
     },
     "execution_count": 34,
     "metadata": {},
     "output_type": "execute_result"
    }
   ],
   "source": [
    "accuracy_score(test_y.reshape(-1), y_hat)"
   ]
  },
  {
   "cell_type": "code",
   "execution_count": 35,
   "metadata": {
    "scrolled": true
   },
   "outputs": [
    {
     "name": "stdout",
     "output_type": "stream",
     "text": [
      "Model: \"sequential_1\"\n",
      "_________________________________________________________________\n",
      "Layer (type)                 Output Shape              Param #   \n",
      "=================================================================\n",
      "conv1d (Conv1D)              multiple                  128       \n",
      "_________________________________________________________________\n",
      "conv1d_1 (Conv1D)            multiple                  3104      \n",
      "_________________________________________________________________\n",
      "flatten (Flatten)            multiple                  0         \n",
      "_________________________________________________________________\n",
      "dense_3 (Dense)              multiple                  19210     \n",
      "=================================================================\n",
      "Total params: 22,442\n",
      "Trainable params: 22,442\n",
      "Non-trainable params: 0\n",
      "_________________________________________________________________\n"
     ]
    }
   ],
   "source": [
    "model.summary()"
   ]
  },
  {
   "cell_type": "markdown",
   "metadata": {},
   "source": [
    "LSTM"
   ]
  },
  {
   "cell_type": "code",
   "execution_count": 36,
   "metadata": {},
   "outputs": [],
   "source": [
    "model = keras.Sequential()\n",
    "model.add(layers.Bidirectional(layers.LSTM(64)))\n",
    "# model.add(layers.Dropout(0.1))\n",
    "model.add(layers.Flatten())\n",
    "model.add(layers.Dense(10, activation=\"softmax\"))\n",
    "\n",
    "model.compile(keras.optimizers.Adam(learning_rate=0.001, clipnorm=1.), \n",
    "               keras.losses.MeanSquaredError(reduction='sum'),\n",
    "               metrics=[keras.metrics.Precision()])\n",
    "\n"
   ]
  },
  {
   "cell_type": "code",
   "execution_count": 37,
   "metadata": {},
   "outputs": [
    {
     "name": "stdout",
     "output_type": "stream",
     "text": [
      "Epoch 1/20\n",
      "45/45 [==============================] - 1s 28ms/step - loss: 2.7943 - precision: 0.0000e+00\n",
      "Epoch 2/20\n",
      "45/45 [==============================] - 1s 30ms/step - loss: 2.1117 - precision: 0.9182\n",
      "Epoch 3/20\n",
      "45/45 [==============================] - 1s 30ms/step - loss: 1.3725 - precision: 0.8791\n",
      "Epoch 4/20\n",
      "45/45 [==============================] - 1s 28ms/step - loss: 1.0999 - precision: 0.8693\n",
      "Epoch 5/20\n",
      "45/45 [==============================] - 2s 33ms/step - loss: 0.9243 - precision: 0.8821\n",
      "Epoch 6/20\n",
      "45/45 [==============================] - 2s 35ms/step - loss: 0.8178 - precision: 0.8966\n",
      "Epoch 7/20\n",
      "45/45 [==============================] - 1s 33ms/step - loss: 0.7078 - precision: 0.9017\n",
      "Epoch 8/20\n",
      "45/45 [==============================] - 1s 28ms/step - loss: 0.6976 - precision: 0.8970\n",
      "Epoch 9/20\n",
      "45/45 [==============================] - 1s 27ms/step - loss: 0.6698 - precision: 0.9032\n",
      "Epoch 10/20\n",
      "45/45 [==============================] - 1s 31ms/step - loss: 0.5591 - precision: 0.9186\n",
      "Epoch 11/20\n",
      "45/45 [==============================] - 1s 33ms/step - loss: 0.5106 - precision: 0.9251\n",
      "Epoch 12/20\n",
      "45/45 [==============================] - 2s 39ms/step - loss: 0.5046 - precision: 0.9187\n",
      "Epoch 13/20\n",
      "45/45 [==============================] - 2s 34ms/step - loss: 0.4657 - precision: 0.9272\n",
      "Epoch 14/20\n",
      "45/45 [==============================] - 2s 34ms/step - loss: 0.4578 - precision: 0.9297\n",
      "Epoch 15/20\n",
      "45/45 [==============================] - 2s 34ms/step - loss: 0.4266 - precision: 0.9322\n",
      "Epoch 16/20\n",
      "45/45 [==============================] - 2s 36ms/step - loss: 0.3940 - precision: 0.9423\n",
      "Epoch 17/20\n",
      "45/45 [==============================] - 1s 33ms/step - loss: 0.3987 - precision: 0.9375\n",
      "Epoch 18/20\n",
      "45/45 [==============================] - 1s 32ms/step - loss: 0.3937 - precision: 0.9425\n",
      "Epoch 19/20\n",
      "45/45 [==============================] - 2s 34ms/step - loss: 0.3544 - precision: 0.9452\n",
      "Epoch 20/20\n",
      "45/45 [==============================] - 1s 33ms/step - loss: 0.3067 - precision: 0.9527\n"
     ]
    },
    {
     "data": {
      "text/plain": [
       "<tensorflow.python.keras.callbacks.History at 0x7f688822e710>"
      ]
     },
     "execution_count": 37,
     "metadata": {},
     "output_type": "execute_result"
    }
   ],
   "source": [
    "model.fit(train_x3, train_y3, epochs=20)"
   ]
  },
  {
   "cell_type": "code",
   "execution_count": 38,
   "metadata": {},
   "outputs": [],
   "source": [
    "y_hat = model.predict(test_x3)"
   ]
  },
  {
   "cell_type": "code",
   "execution_count": 39,
   "metadata": {},
   "outputs": [],
   "source": [
    "y_hat = [np.argmax(y) for y in y_hat]"
   ]
  },
  {
   "cell_type": "code",
   "execution_count": 40,
   "metadata": {},
   "outputs": [
    {
     "data": {
      "text/plain": [
       "array([[42,  0,  0,  0,  0,  0,  0,  0,  0,  0],\n",
       "       [ 0, 44,  1,  0,  0,  0,  0,  0,  2,  0],\n",
       "       [ 1,  0, 33,  2,  0,  0,  1,  0,  0,  2],\n",
       "       [ 0,  0,  2, 20,  0,  0,  0,  0,  2,  1],\n",
       "       [ 0,  1,  0,  0, 33,  0,  0,  0,  0,  0],\n",
       "       [ 0,  0,  0,  0,  0, 35,  0,  1,  0,  0],\n",
       "       [ 0,  0,  0,  3,  0,  0, 34,  0,  0,  0],\n",
       "       [ 0,  1,  0,  0,  0,  0,  1, 33,  0,  0],\n",
       "       [ 0,  1,  0,  1,  0,  0,  0,  0, 29,  0],\n",
       "       [ 0,  0,  0,  1,  0,  5,  0,  0,  1, 27]])"
      ]
     },
     "execution_count": 40,
     "metadata": {},
     "output_type": "execute_result"
    }
   ],
   "source": [
    "confusion_matrix(test_y.reshape(-1), y_hat)"
   ]
  },
  {
   "cell_type": "code",
   "execution_count": 41,
   "metadata": {},
   "outputs": [
    {
     "data": {
      "text/plain": [
       "(array([0.97674419, 0.93617021, 0.91666667, 0.74074074, 1.        ,\n",
       "        0.875     , 0.94444444, 0.97058824, 0.85294118, 0.9       ]),\n",
       " array([1.        , 0.93617021, 0.84615385, 0.8       , 0.97058824,\n",
       "        0.97222222, 0.91891892, 0.94285714, 0.93548387, 0.79411765]),\n",
       " array([0.98823529, 0.93617021, 0.88      , 0.76923077, 0.98507463,\n",
       "        0.92105263, 0.93150685, 0.95652174, 0.89230769, 0.84375   ]),\n",
       " array([42, 47, 39, 25, 34, 36, 37, 35, 31, 34]))"
      ]
     },
     "execution_count": 41,
     "metadata": {},
     "output_type": "execute_result"
    }
   ],
   "source": [
    "precision_recall_fscore_support(test_y.reshape(-1), y_hat)"
   ]
  },
  {
   "cell_type": "code",
   "execution_count": 42,
   "metadata": {},
   "outputs": [
    {
     "data": {
      "text/plain": [
       "0.9166666666666666"
      ]
     },
     "execution_count": 42,
     "metadata": {},
     "output_type": "execute_result"
    }
   ],
   "source": [
    "accuracy_score(test_y.reshape(-1), y_hat)"
   ]
  },
  {
   "cell_type": "code",
   "execution_count": 43,
   "metadata": {
    "scrolled": true
   },
   "outputs": [
    {
     "name": "stdout",
     "output_type": "stream",
     "text": [
      "Model: \"sequential_2\"\n",
      "_________________________________________________________________\n",
      "Layer (type)                 Output Shape              Param #   \n",
      "=================================================================\n",
      "bidirectional (Bidirectional multiple                  33792     \n",
      "_________________________________________________________________\n",
      "flatten_1 (Flatten)          multiple                  0         \n",
      "_________________________________________________________________\n",
      "dense_4 (Dense)              multiple                  1290      \n",
      "=================================================================\n",
      "Total params: 35,082\n",
      "Trainable params: 35,082\n",
      "Non-trainable params: 0\n",
      "_________________________________________________________________\n"
     ]
    }
   ],
   "source": [
    "model.summary()"
   ]
  },
  {
   "cell_type": "code",
   "execution_count": null,
   "metadata": {},
   "outputs": [],
   "source": []
  }
 ],
 "metadata": {
  "kernelspec": {
   "display_name": "Python 3",
   "language": "python",
   "name": "python3"
  },
  "language_info": {
   "codemirror_mode": {
    "name": "ipython",
    "version": 3
   },
   "file_extension": ".py",
   "mimetype": "text/x-python",
   "name": "python",
   "nbconvert_exporter": "python",
   "pygments_lexer": "ipython3",
   "version": "3.6.9"
  }
 },
 "nbformat": 4,
 "nbformat_minor": 2
}
